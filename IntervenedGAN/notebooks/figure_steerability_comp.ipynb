{
 "cells": [
  {
   "cell_type": "code",
   "execution_count": null,
   "metadata": {},
   "outputs": [],
   "source": [
    "# Copyright 2020 Erik Härkönen. All rights reserved.\n",
    "# This file is licensed to you under the Apache License, Version 2.0 (the \"License\");\n",
    "# you may not use this file except in compliance with the License. You may obtain a copy\n",
    "# of the License at http://www.apache.org/licenses/LICENSE-2.0\n",
    "\n",
    "# Unless required by applicable law or agreed to in writing, software distributed under\n",
    "# the License is distributed on an \"AS IS\" BASIS, WITHOUT WARRANTIES OR REPRESENTATIONS\n",
    "# OF ANY KIND, either express or implied. See the License for the specific language\n",
    "# governing permissions and limitations under the License.\n",
    "\n",
    "# Comparison to GAN steerability\n",
    "%matplotlib inline\n",
    "from notebook_init import *\n",
    "\n",
    "out_root = Path('out/figures/steerability_comp')\n",
    "makedirs(out_root, exist_ok=True)\n",
    "rand = lambda : np.random.randint(np.iinfo(np.int32).max)"
   ]
  },
  {
   "cell_type": "code",
   "execution_count": null,
   "metadata": {},
   "outputs": [],
   "source": [
    "inst = get_instrumented_model('BigGAN-512', 'husky', 'generator.gen_z', device, inst=inst)\n",
    "model = inst.model\n",
    "\n",
    "pc_config = Config(components=80, n=1_000_000,\n",
    "    layer='generator.gen_z', model='BigGAN-512', output_class='husky')\n",
    "dump_name = get_or_compute(pc_config, inst)\n",
    "\n",
    "with np.load(dump_name) as data:\n",
    "    lat_comp = data['lat_comp']\n",
    "    lat_mean = data['lat_mean']\n",
    "    lat_std = data['lat_stdev']\n",
    "\n",
    "# Indices determined by visual inspection\n",
    "delta_ours_transl = lat_comp[0]\n",
    "delta_ours_zoom = lat_comp[6]"
   ]
  },
  {
   "cell_type": "code",
   "execution_count": null,
   "metadata": {},
   "outputs": [],
   "source": [
    "def apply_edit(seed, delta, alpha, n_frames=7):\n",
    "    z = model.sample_latent(1, seed=seed).cpu().numpy()\n",
    "    \n",
    "    frames = []\n",
    "    for a in np.linspace(-alpha, alpha, n_frames):\n",
    "        frames.append(model.sample_np(z + a*delta))\n",
    "        \n",
    "    return frames\n",
    "\n",
    "def show_strip(frames):\n",
    "    plt.figure(figsize=(20,20))\n",
    "    plt.axis('off')\n",
    "    plt.imshow(np.hstack(pad_frames(frames, 64)))\n",
    "    plt.show()"
   ]
  },
  {
   "cell_type": "code",
   "execution_count": null,
   "metadata": {},
   "outputs": [],
   "source": [
    "import pickle\n",
    "with open('gan_steer-linear_zoom_512.pkl', 'rb') as f:\n",
    "    delta_steerability_zoom = pickle.load(f)['w_zoom'].reshape(1, 128)\n",
    "with open('gan_steer-linear_shiftx_512.pkl', 'rb') as f:\n",
    "    delta_steerability_transl = pickle.load(f)['w_shiftx'].reshape(1, 128)"
   ]
  },
  {
   "cell_type": "code",
   "execution_count": null,
   "metadata": {},
   "outputs": [],
   "source": [
    "normalize = lambda t : t / np.sqrt(np.sum(t.reshape(-1)**2))\n",
    "\n",
    "# Normalize all\n",
    "delta_steerability_zoom = normalize(delta_steerability_zoom)\n",
    "delta_steerability_transl = normalize(delta_steerability_transl)\n",
    "delta_ours_zoom = normalize(delta_ours_zoom)\n",
    "delta_ours_transl = normalize(delta_ours_transl)"
   ]
  },
  {
   "cell_type": "code",
   "execution_count": null,
   "metadata": {},
   "outputs": [],
   "source": [
    "# Angles\n",
    "dotp_zoom = np.dot(delta_steerability_zoom.reshape(-1), delta_ours_zoom.reshape(-1))\n",
    "dotp_transl = np.dot(delta_steerability_transl.reshape(-1), delta_ours_transl.reshape(-1))\n",
    "\n",
    "if dotp_zoom < 0:\n",
    "    delta_ours_zoom *= -1\n",
    "    \n",
    "if dotp_transl < 0:\n",
    "    delta_ours_transl *= -1\n",
    "\n",
    "print('Zoom similarity:', dotp_zoom)\n",
    "print('Translate similarity:', dotp_transl)"
   ]
  },
  {
   "cell_type": "code",
   "execution_count": null,
   "metadata": {
    "scrolled": false
   },
   "outputs": [],
   "source": [
    "model.truncation = 0.6\n",
    "\n",
    "def compute(prefix, imgclass, seeds, d_ours, scale_ours, d_steer, scale_steer):\n",
    "    model.set_output_class(imgclass)\n",
    "    makedirs(out_root / prefix, exist_ok=True)\n",
    "    \n",
    "    for seed in seeds:\n",
    "        print(seed)\n",
    "        deltas = [d_ours, d_steer]\n",
    "        scales = [scale_ours, scale_steer]\n",
    "        names = ['ours', 'steerability']\n",
    "\n",
    "        for delta, name, scale in zip(deltas, names, scales):\n",
    "            frames = apply_edit(seed, delta*scale, 1.0)\n",
    "            for i, frame in enumerate(frames):\n",
    "                Image.fromarray(np.uint8(frame*255)).save(\n",
    "                    out_root / prefix / f'{imgclass}_{name}_{i}.png')\n",
    "            \n",
    "            strip = np.hstack(pad_frames(frames, 64))\n",
    "            plt.figure(figsize=(12,12))\n",
    "            plt.imshow(strip)\n",
    "            plt.axis('off')\n",
    "            plt.tight_layout()\n",
    "            plt.title(f'{prefix} - {name}, scale={scale}')\n",
    "            plt.show()\n",
    "\n",
    "\n",
    "compute('zoom', 'robin', [560157313], delta_ours_zoom, 3.0, delta_steerability_zoom, 5.5)\n",
    "compute('zoom', 'ship', [107715983], delta_ours_zoom, 3.0, delta_steerability_zoom, 5.0)\n",
    "compute('translate', 'golden_retriever', [552411435], delta_ours_transl, 2.0, delta_steerability_transl, 4.5)\n",
    "compute('translate', 'lemon', [331582800], delta_ours_transl, 3.0, delta_steerability_transl, 6.0)\n",
    "\n",
    "print('Done')\n",
    "\n"
   ]
  },
  {
   "cell_type": "code",
   "execution_count": null,
   "metadata": {},
   "outputs": [],
   "source": []
  }
 ],
 "metadata": {
  "file_extension": ".py",
  "kernelspec": {
   "display_name": "Python 3",
   "language": "python",
   "name": "python3"
  },
  "language_info": {
   "codemirror_mode": {
    "name": "ipython",
    "version": 3
   },
   "file_extension": ".py",
   "mimetype": "text/x-python",
   "name": "python",
   "nbconvert_exporter": "python",
   "pygments_lexer": "ipython3",
   "version": "3.7.5"
  },
  "mimetype": "text/x-python",
  "name": "python",
  "npconvert_exporter": "python",
  "pygments_lexer": "ipython3",
  "version": 3
 },
 "nbformat": 4,
 "nbformat_minor": 2
}
